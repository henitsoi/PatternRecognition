{
 "cells": [
  {
   "cell_type": "code",
   "execution_count": 65,
   "id": "089dcc0c",
   "metadata": {},
   "outputs": [],
   "source": [
    "import matplotlib.pyplot as plt\n",
    "import multiprocessing as mp\n",
    "\n",
    "import numpy as np\n",
    "from sklearn.datasets import fetch_openml\n",
    "from tqdm import tqdm\n",
    "\n",
    "# Load the MNIST dataset\n",
    "mnist = fetch_openml('mnist_784', parser='auto')\n",
    "X, y = mnist['data'][:35000].values, mnist['target'][:35000].values"
   ]
  },
  {
   "cell_type": "code",
   "execution_count": 56,
   "id": "1ee23e6a",
   "metadata": {},
   "outputs": [],
   "source": [
    "def recognize_symbol(reference_images, image, symbol_index_to_skip):\n",
    "    # Compute the similarity between the noisy image and the reference images\n",
    "    similarities = []\n",
    "    for idx, ref_image in tqdm(enumerate(reference_images), total=len(reference_images)):\n",
    "        if idx == symbol_index_to_skip: continue\n",
    "        similarity = np.sum((np.equal(ref_image, image)).astype(int)) / image.size\n",
    "#         similarity = calculate_likelihood_mp(ref_image)\n",
    "        similarities.append(similarity)\n",
    "    return np.argmax(similarities)"
   ]
  },
  {
   "cell_type": "code",
   "execution_count": 39,
   "id": "c37888c2",
   "metadata": {},
   "outputs": [],
   "source": [
    "def generate_noisy_image(symbol_index, noise_level):\n",
    "    image = X[symbol_index].reshape(28, 28)\n",
    "\n",
    "    # Add Bernoulli noise to the image\n",
    "    noisy_image = np.where(np.random.rand(*image.shape) < noise_level, 1, image)\n",
    "\n",
    "    return image, noisy_image"
   ]
  },
  {
   "cell_type": "code",
   "execution_count": 40,
   "id": "a79279ba",
   "metadata": {},
   "outputs": [],
   "source": [
    "def calculate_log_probability(image, i, j):\n",
    "    pixel = np.clip(image[i, j], 1e-6, 1 - 1e-6)\n",
    "    return np.where(pixel == 0, np.log(1 - pixel), np.log(pixel))"
   ]
  },
  {
   "cell_type": "code",
   "execution_count": 41,
   "id": "ff4e71f5",
   "metadata": {},
   "outputs": [],
   "source": [
    "def calculate_likelihood_mp(image):\n",
    "    with mp.Pool(mp.cpu_count()) as pool:\n",
    "        # Calculate the logarithm of the probability of each pixel in parallel\n",
    "        log_probabilities = pool.starmap(calculate_log_probability, [(image, i, j) for i, j in zip(*np.where(image == 0))])\n",
    "    \n",
    "    return sum(log_probabilities)"
   ]
  },
  {
   "cell_type": "code",
   "execution_count": 72,
   "id": "0d4c1401",
   "metadata": {
    "scrolled": true
   },
   "outputs": [
    {
     "name": "stderr",
     "output_type": "stream",
     "text": [
      "100%|██████████████████████████████████| 35000/35000 [00:00<00:00, 88466.04it/s]\n"
     ]
    },
    {
     "name": "stdout",
     "output_type": "stream",
     "text": [
      "17986 15138\n",
      "Original symbol: 1\n",
      "Recognized symbol: 1\n"
     ]
    },
    {
     "data": {
      "image/png": "[encoded data removed]",
      "text/plain": [
       "<Figure size 1000x300 with 3 Axes>"
      ]
     },
     "metadata": {},
     "output_type": "display_data"
    }
   ],
   "source": [
    "symbol_label = '1'\n",
    "noise_level = 0.2\n",
    "\n",
    "symbol_index = np.random.choice(np.where(y == symbol_label)[0])\n",
    "\n",
    "# Generate a noisy image\n",
    "reference_image, noisy_image = generate_noisy_image(symbol_index, noise_level)\n",
    "\n",
    "# Recognize the symbol in the noisy image\n",
    "recognized_symbol_index = recognize_symbol(X.reshape(-1, 28, 28), noisy_image, symbol_index)\n",
    "\n",
    "print(symbol_index, recognized_symbol_index)\n",
    "print(f'Original symbol: {symbol_label}')\n",
    "print(f'Recognized symbol: {y[recognized_symbol_index]}')\n",
    "\n",
    "# Display the reference image, the noisy image, and the recognition result\n",
    "fig, axs = plt.subplots(1, 3, figsize=(10, 3))\n",
    "\n",
    "axs[0].imshow(reference_image, cmap='gray')\n",
    "axs[0].set_title(f'Reference image: {symbol_label}')\n",
    "axs[1].imshow(noisy_image, cmap='gray')\n",
    "axs[1].set_title('Noisy image')\n",
    "axs[2].imshow(X[recognized_symbol_index].reshape(28, 28), cmap='gray')\n",
    "axs[2].set_title(f'Recognized symbol: {y[recognized_symbol_index]}')\n",
    "\n",
    "axs[0].axis('off')\n",
    "axs[1].axis('off')\n",
    "axs[2].axis('off')\n",
    "\n",
    "plt.show()"
   ]
  },
  {
   "cell_type": "code",
   "execution_count": null,
   "id": "0667ed31",
   "metadata": {},
   "outputs": [],
   "source": []
  }
 ],
 "metadata": {
  "kernelspec": {
   "display_name": "pattern-recognition",
   "language": "python",
   "name": "pattern-recognition"
  },
  "language_info": {
   "codemirror_mode": {
    "name": "ipython",
    "version": 3
   },
   "file_extension": ".py",
   "mimetype": "text/x-python",
   "name": "python",
   "nbconvert_exporter": "python",
   "pygments_lexer": "ipython3",
   "version": "3.8.10"
  }
 },
 "nbformat": 4,
 "nbformat_minor": 5
}
